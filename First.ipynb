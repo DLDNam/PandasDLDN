{
 "cells": [
  {
   "cell_type": "code",
   "execution_count": 1,
   "metadata": {},
   "outputs": [],
   "source": [
    "import pandas as pd\n",
    "import numpy as np"
   ]
  },
  {
   "attachments": {},
   "cell_type": "markdown",
   "metadata": {},
   "source": [
    "#Dọc Data từ bảng C3.csv"
   ]
  },
  {
   "cell_type": "code",
   "execution_count": 2,
   "metadata": {},
   "outputs": [],
   "source": [
    "my_df = pd.read_csv(\"C3.csv\")"
   ]
  },
  {
   "attachments": {},
   "cell_type": "markdown",
   "metadata": {},
   "source": [
    "#chia các bạn theo từng khối thi vào cùng bảng khác nhau"
   ]
  },
  {
   "cell_type": "code",
   "execution_count": 3,
   "metadata": {},
   "outputs": [],
   "source": [
    "dfA00 = my_df[my_df['Exam blocks'] == 'A00']\n",
    "dfA01 = my_df[my_df['Exam blocks'] == 'A01']\n",
    "dfB00 = my_df[my_df['Exam blocks'] == 'B00']\n",
    "dfD01 = my_df[my_df['Exam blocks'] == 'D01']"
   ]
  },
  {
   "attachments": {},
   "cell_type": "markdown",
   "metadata": {},
   "source": [
    "#Xóa cột GDCD"
   ]
  },
  {
   "cell_type": "code",
   "execution_count": 4,
   "metadata": {},
   "outputs": [
    {
     "name": "stderr",
     "output_type": "stream",
     "text": [
      "C:\\Users\\FPT SHOP\\AppData\\Local\\Temp\\ipykernel_8596\\2147760085.py:1: SettingWithCopyWarning: \n",
      "A value is trying to be set on a copy of a slice from a DataFrame\n",
      "\n",
      "See the caveats in the documentation: https://pandas.pydata.org/pandas-docs/stable/user_guide/indexing.html#returning-a-view-versus-a-copy\n",
      "  dfA00.drop(dfA00.columns[[5,6,9,10,11,12]], axis=1, inplace=True )\n",
      "C:\\Users\\FPT SHOP\\AppData\\Local\\Temp\\ipykernel_8596\\2147760085.py:2: SettingWithCopyWarning: \n",
      "A value is trying to be set on a copy of a slice from a DataFrame\n",
      "\n",
      "See the caveats in the documentation: https://pandas.pydata.org/pandas-docs/stable/user_guide/indexing.html#returning-a-view-versus-a-copy\n",
      "  dfB00.drop(dfB00.columns[[5,6,7,10,11,12]], axis=1, inplace=True )\n",
      "C:\\Users\\FPT SHOP\\AppData\\Local\\Temp\\ipykernel_8596\\2147760085.py:3: SettingWithCopyWarning: \n",
      "A value is trying to be set on a copy of a slice from a DataFrame\n",
      "\n",
      "See the caveats in the documentation: https://pandas.pydata.org/pandas-docs/stable/user_guide/indexing.html#returning-a-view-versus-a-copy\n",
      "  dfA01.drop(dfA01.columns[[5,8,9,10,11,12]], axis=1, inplace= True)\n",
      "C:\\Users\\FPT SHOP\\AppData\\Local\\Temp\\ipykernel_8596\\2147760085.py:4: SettingWithCopyWarning: \n",
      "A value is trying to be set on a copy of a slice from a DataFrame\n",
      "\n",
      "See the caveats in the documentation: https://pandas.pydata.org/pandas-docs/stable/user_guide/indexing.html#returning-a-view-versus-a-copy\n",
      "  dfD01.drop(dfD01.columns[[7,8,9,10,11,12]], axis=1, inplace=True)\n"
     ]
    }
   ],
   "source": [
    "dfA00.drop(dfA00.columns[[5,6,9,10,11,12]], axis=1, inplace=True )\n",
    "dfB00.drop(dfB00.columns[[5,6,7,10,11,12]], axis=1, inplace=True )\n",
    "dfA01.drop(dfA01.columns[[5,8,9,10,11,12]], axis=1, inplace= True)\n",
    "dfD01.drop(dfD01.columns[[7,8,9,10,11,12]], axis=1, inplace=True)"
   ]
  },
  {
   "attachments": {},
   "cell_type": "markdown",
   "metadata": {},
   "source": [
    "#tính tổng điểm các khối và sắp xếp tăng dần"
   ]
  },
  {
   "cell_type": "code",
   "execution_count": 7,
   "metadata": {},
   "outputs": [
    {
     "name": "stderr",
     "output_type": "stream",
     "text": [
      "C:\\Users\\FPT SHOP\\AppData\\Local\\Temp\\ipykernel_8596\\647847689.py:1: SettingWithCopyWarning: \n",
      "A value is trying to be set on a copy of a slice from a DataFrame.\n",
      "Try using .loc[row_indexer,col_indexer] = value instead\n",
      "\n",
      "See the caveats in the documentation: https://pandas.pydata.org/pandas-docs/stable/user_guide/indexing.html#returning-a-view-versus-a-copy\n",
      "  dfA00['A00'] = dfA00['Match'] + dfA00['Chemistry'] + dfA00['Physics']\n",
      "C:\\Users\\FPT SHOP\\AppData\\Local\\Temp\\ipykernel_8596\\647847689.py:3: SettingWithCopyWarning: \n",
      "A value is trying to be set on a copy of a slice from a DataFrame.\n",
      "Try using .loc[row_indexer,col_indexer] = value instead\n",
      "\n",
      "See the caveats in the documentation: https://pandas.pydata.org/pandas-docs/stable/user_guide/indexing.html#returning-a-view-versus-a-copy\n",
      "  dfB00['B00'] = dfB00['Match'] + dfB00['Biology'] + dfB00['Chemistry']\n",
      "C:\\Users\\FPT SHOP\\AppData\\Local\\Temp\\ipykernel_8596\\647847689.py:5: SettingWithCopyWarning: \n",
      "A value is trying to be set on a copy of a slice from a DataFrame.\n",
      "Try using .loc[row_indexer,col_indexer] = value instead\n",
      "\n",
      "See the caveats in the documentation: https://pandas.pydata.org/pandas-docs/stable/user_guide/indexing.html#returning-a-view-versus-a-copy\n",
      "  dfA01['A01'] = dfA01['Match'] + dfA01['English'] + dfA01['Physics']\n",
      "C:\\Users\\FPT SHOP\\AppData\\Local\\Temp\\ipykernel_8596\\647847689.py:7: SettingWithCopyWarning: \n",
      "A value is trying to be set on a copy of a slice from a DataFrame.\n",
      "Try using .loc[row_indexer,col_indexer] = value instead\n",
      "\n",
      "See the caveats in the documentation: https://pandas.pydata.org/pandas-docs/stable/user_guide/indexing.html#returning-a-view-versus-a-copy\n",
      "  dfD01['D01'] = dfD01['Match'] + dfD01['Literature'] + dfD01['English']\n"
     ]
    },
    {
     "data": {
      "text/html": [
       "<div>\n",
       "<style scoped>\n",
       "    .dataframe tbody tr th:only-of-type {\n",
       "        vertical-align: middle;\n",
       "    }\n",
       "\n",
       "    .dataframe tbody tr th {\n",
       "        vertical-align: top;\n",
       "    }\n",
       "\n",
       "    .dataframe thead th {\n",
       "        text-align: right;\n",
       "    }\n",
       "</style>\n",
       "<table border=\"1\" class=\"dataframe\">\n",
       "  <thead>\n",
       "    <tr style=\"text-align: right;\">\n",
       "      <th></th>\n",
       "      <th>NO</th>\n",
       "      <th>Name</th>\n",
       "      <th>Exam blocks</th>\n",
       "      <th>Class</th>\n",
       "      <th>Match</th>\n",
       "      <th>Literature</th>\n",
       "      <th>English</th>\n",
       "      <th>D01</th>\n",
       "    </tr>\n",
       "  </thead>\n",
       "  <tbody>\n",
       "    <tr>\n",
       "      <th>4</th>\n",
       "      <td>66</td>\n",
       "      <td>Pham Viet Dung</td>\n",
       "      <td>D01</td>\n",
       "      <td>12C3</td>\n",
       "      <td>8.6</td>\n",
       "      <td>7.7</td>\n",
       "      <td>8.9</td>\n",
       "      <td>25.2</td>\n",
       "    </tr>\n",
       "    <tr>\n",
       "      <th>8</th>\n",
       "      <td>82</td>\n",
       "      <td>Dam Huong Giang</td>\n",
       "      <td>D01</td>\n",
       "      <td>12C3</td>\n",
       "      <td>9.5</td>\n",
       "      <td>8.3</td>\n",
       "      <td>7.8</td>\n",
       "      <td>25.6</td>\n",
       "    </tr>\n",
       "    <tr>\n",
       "      <th>11</th>\n",
       "      <td>114</td>\n",
       "      <td>Nguyen Khanh Huyen</td>\n",
       "      <td>D01</td>\n",
       "      <td>12C3</td>\n",
       "      <td>9.5</td>\n",
       "      <td>7.8</td>\n",
       "      <td>8.7</td>\n",
       "      <td>26.0</td>\n",
       "    </tr>\n",
       "  </tbody>\n",
       "</table>\n",
       "</div>"
      ],
      "text/plain": [
       "     NO                Name Exam blocks Class  Match  Literature  English  \\\n",
       "4    66      Pham Viet Dung         D01  12C3    8.6         7.7      8.9   \n",
       "8    82     Dam Huong Giang         D01  12C3    9.5         8.3      7.8   \n",
       "11  114  Nguyen Khanh Huyen         D01  12C3    9.5         7.8      8.7   \n",
       "\n",
       "     D01  \n",
       "4   25.2  \n",
       "8   25.6  \n",
       "11  26.0  "
      ]
     },
     "execution_count": 7,
     "metadata": {},
     "output_type": "execute_result"
    }
   ],
   "source": [
    "\n",
    "dfA00['A00'] = dfA00['Match'] + dfA00['Chemistry'] + dfA00['Physics']\n",
    "dfA00.sort_values('A00')\n",
    "dfB00['B00'] = dfB00['Match'] + dfB00['Biology'] + dfB00['Chemistry']\n",
    "dfB00.sort_values('B00')\n",
    "dfA01['A01'] = dfA01['Match'] + dfA01['English'] + dfA01['Physics']\n",
    "dfA01.sort_values('A01')\n",
    "dfD01['D01'] = dfD01['Match'] + dfD01['Literature'] + dfD01['English']\n",
    "dfD01.sort_values('D01')\n"
   ]
  },
  {
   "cell_type": "code",
   "execution_count": 15,
   "metadata": {},
   "outputs": [
    {
     "ename": "AttributeError",
     "evalue": "'Series' object has no attribute 'slice'",
     "output_type": "error",
     "traceback": [
      "\u001b[1;31m---------------------------------------------------------------------------\u001b[0m",
      "\u001b[1;31mAttributeError\u001b[0m                            Traceback (most recent call last)",
      "Cell \u001b[1;32mIn[15], line 1\u001b[0m\n\u001b[1;32m----> 1\u001b[0m dfB00[\u001b[39m'\u001b[39;49m\u001b[39mName\u001b[39;49m\u001b[39m'\u001b[39;49m]\u001b[39m.\u001b[39;49mslice(\u001b[39m2\u001b[39m)\n",
      "File \u001b[1;32mc:\\Users\\FPT SHOP\\AppData\\Local\\Programs\\Python\\Python310\\lib\\site-packages\\pandas\\core\\generic.py:5902\u001b[0m, in \u001b[0;36mNDFrame.__getattr__\u001b[1;34m(self, name)\u001b[0m\n\u001b[0;32m   5895\u001b[0m \u001b[39mif\u001b[39;00m (\n\u001b[0;32m   5896\u001b[0m     name \u001b[39mnot\u001b[39;00m \u001b[39min\u001b[39;00m \u001b[39mself\u001b[39m\u001b[39m.\u001b[39m_internal_names_set\n\u001b[0;32m   5897\u001b[0m     \u001b[39mand\u001b[39;00m name \u001b[39mnot\u001b[39;00m \u001b[39min\u001b[39;00m \u001b[39mself\u001b[39m\u001b[39m.\u001b[39m_metadata\n\u001b[0;32m   5898\u001b[0m     \u001b[39mand\u001b[39;00m name \u001b[39mnot\u001b[39;00m \u001b[39min\u001b[39;00m \u001b[39mself\u001b[39m\u001b[39m.\u001b[39m_accessors\n\u001b[0;32m   5899\u001b[0m     \u001b[39mand\u001b[39;00m \u001b[39mself\u001b[39m\u001b[39m.\u001b[39m_info_axis\u001b[39m.\u001b[39m_can_hold_identifiers_and_holds_name(name)\n\u001b[0;32m   5900\u001b[0m ):\n\u001b[0;32m   5901\u001b[0m     \u001b[39mreturn\u001b[39;00m \u001b[39mself\u001b[39m[name]\n\u001b[1;32m-> 5902\u001b[0m \u001b[39mreturn\u001b[39;00m \u001b[39mobject\u001b[39;49m\u001b[39m.\u001b[39;49m\u001b[39m__getattribute__\u001b[39;49m(\u001b[39mself\u001b[39;49m, name)\n",
      "\u001b[1;31mAttributeError\u001b[0m: 'Series' object has no attribute 'slice'"
     ]
    }
   ],
   "source": [
    "dfB00['Name'].sl(2)"
   ]
  },
  {
   "cell_type": "code",
   "execution_count": 9,
   "metadata": {},
   "outputs": [],
   "source": [
    "my_df['A00'] = my_df['Match'] + my_df['Chemistry'] + my_df['Physics']\n",
    "my_df['B00'] = my_df['Match'] + my_df['Biology'] + my_df['Chemistry']\n",
    "my_df['A01'] = my_df['Match'] + my_df['English'] + my_df['Physics']\n",
    "my_df['C00'] = my_df['Literature'] + my_df['History'] + my_df['Geographic']\n",
    "my_df['D00'] = my_df['Literature'] + my_df['Match'] + my_df['English']"
   ]
  },
  {
   "attachments": {},
   "cell_type": "markdown",
   "metadata": {},
   "source": [
    "#Đếm xem có bao nhiêu bạn họ Nguyễn\n"
   ]
  },
  {
   "cell_type": "code",
   "execution_count": 11,
   "metadata": {},
   "outputs": [
    {
     "data": {
      "text/plain": [
       "False    30\n",
       "True     11\n",
       "Name: Name, dtype: int64"
      ]
     },
     "execution_count": 11,
     "metadata": {},
     "output_type": "execute_result"
    }
   ],
   "source": [
    "def Nguyen_string(title):\n",
    "    if 'nguyen' in title.lower():\n",
    "        return True\n",
    "    else:\n",
    "        return False\n",
    "my_df['Name'].apply(lambda x: Nguyen_string(x) == True ).value_counts()\n"
   ]
  },
  {
   "attachments": {},
   "cell_type": "markdown",
   "metadata": {},
   "source": [
    "#Xem Dam Huong Giang được bao nhiêu điểm"
   ]
  },
  {
   "cell_type": "code",
   "execution_count": 41,
   "metadata": {},
   "outputs": [
    {
     "data": {
      "text/html": [
       "<div>\n",
       "<style scoped>\n",
       "    .dataframe tbody tr th:only-of-type {\n",
       "        vertical-align: middle;\n",
       "    }\n",
       "\n",
       "    .dataframe tbody tr th {\n",
       "        vertical-align: top;\n",
       "    }\n",
       "\n",
       "    .dataframe thead th {\n",
       "        text-align: right;\n",
       "    }\n",
       "</style>\n",
       "<table border=\"1\" class=\"dataframe\">\n",
       "  <thead>\n",
       "    <tr style=\"text-align: right;\">\n",
       "      <th></th>\n",
       "      <th>NO</th>\n",
       "      <th>Name</th>\n",
       "      <th>Exam blocks</th>\n",
       "      <th>Class</th>\n",
       "      <th>Match</th>\n",
       "      <th>Literature</th>\n",
       "      <th>English</th>\n",
       "      <th>Physics</th>\n",
       "      <th>Chemistry</th>\n",
       "      <th>Biology</th>\n",
       "      <th>History</th>\n",
       "      <th>Geographic</th>\n",
       "      <th>Civic Education</th>\n",
       "    </tr>\n",
       "  </thead>\n",
       "  <tbody>\n",
       "    <tr>\n",
       "      <th>8</th>\n",
       "      <td>82</td>\n",
       "      <td>Dam Huong Giang</td>\n",
       "      <td>D01</td>\n",
       "      <td>12C3</td>\n",
       "      <td>9.5</td>\n",
       "      <td>8.3</td>\n",
       "      <td>7.8</td>\n",
       "      <td>8.8</td>\n",
       "      <td>8.8</td>\n",
       "      <td>8.2</td>\n",
       "      <td>8.5</td>\n",
       "      <td>9.1</td>\n",
       "      <td>9.5</td>\n",
       "    </tr>\n",
       "  </tbody>\n",
       "</table>\n",
       "</div>"
      ],
      "text/plain": [
       "   NO             Name Exam blocks Class  Match  Literature  English  Physics  \\\n",
       "8  82  Dam Huong Giang         D01  12C3    9.5         8.3      7.8      8.8   \n",
       "\n",
       "   Chemistry  Biology  History  Geographic  Civic Education  \n",
       "8        8.8      8.2      8.5         9.1              9.5  "
      ]
     },
     "execution_count": 41,
     "metadata": {},
     "output_type": "execute_result"
    }
   ],
   "source": [
    "my_df[my_df['Name']== 'Dam Huong Giang']"
   ]
  },
  {
   "cell_type": "code",
   "execution_count": 42,
   "metadata": {},
   "outputs": [
    {
     "data": {
      "text/html": [
       "<div>\n",
       "<style scoped>\n",
       "    .dataframe tbody tr th:only-of-type {\n",
       "        vertical-align: middle;\n",
       "    }\n",
       "\n",
       "    .dataframe tbody tr th {\n",
       "        vertical-align: top;\n",
       "    }\n",
       "\n",
       "    .dataframe thead th {\n",
       "        text-align: right;\n",
       "    }\n",
       "</style>\n",
       "<table border=\"1\" class=\"dataframe\">\n",
       "  <thead>\n",
       "    <tr style=\"text-align: right;\">\n",
       "      <th></th>\n",
       "      <th>NO</th>\n",
       "      <th>Name</th>\n",
       "      <th>Exam blocks</th>\n",
       "      <th>Class</th>\n",
       "      <th>Match</th>\n",
       "      <th>Literature</th>\n",
       "      <th>English</th>\n",
       "      <th>Physics</th>\n",
       "      <th>Chemistry</th>\n",
       "      <th>Biology</th>\n",
       "      <th>History</th>\n",
       "      <th>Geographic</th>\n",
       "      <th>Civic Education</th>\n",
       "    </tr>\n",
       "  </thead>\n",
       "  <tbody>\n",
       "    <tr>\n",
       "      <th>1</th>\n",
       "      <td>30</td>\n",
       "      <td>Nguyen Tran Yen Chi</td>\n",
       "      <td>B00</td>\n",
       "      <td>12C3</td>\n",
       "      <td>9.0</td>\n",
       "      <td>8.0</td>\n",
       "      <td>7.1</td>\n",
       "      <td>8.7</td>\n",
       "      <td>8.9</td>\n",
       "      <td>8.8</td>\n",
       "      <td>8.0</td>\n",
       "      <td>8.5</td>\n",
       "      <td>9.5</td>\n",
       "    </tr>\n",
       "    <tr>\n",
       "      <th>12</th>\n",
       "      <td>117</td>\n",
       "      <td>Ta Thi Huyen</td>\n",
       "      <td>B00</td>\n",
       "      <td>12C3</td>\n",
       "      <td>9.0</td>\n",
       "      <td>7.4</td>\n",
       "      <td>7.1</td>\n",
       "      <td>8.6</td>\n",
       "      <td>8.4</td>\n",
       "      <td>7.6</td>\n",
       "      <td>8.2</td>\n",
       "      <td>8.1</td>\n",
       "      <td>9.3</td>\n",
       "    </tr>\n",
       "    <tr>\n",
       "      <th>22</th>\n",
       "      <td>222</td>\n",
       "      <td>Dam Duc Manh</td>\n",
       "      <td>A00</td>\n",
       "      <td>12C3</td>\n",
       "      <td>9.0</td>\n",
       "      <td>6.7</td>\n",
       "      <td>7.0</td>\n",
       "      <td>7.9</td>\n",
       "      <td>8.4</td>\n",
       "      <td>7.5</td>\n",
       "      <td>8.4</td>\n",
       "      <td>8.1</td>\n",
       "      <td>8.9</td>\n",
       "    </tr>\n",
       "    <tr>\n",
       "      <th>23</th>\n",
       "      <td>227</td>\n",
       "      <td>Dinh Le Duc Nam</td>\n",
       "      <td>A00</td>\n",
       "      <td>12C3</td>\n",
       "      <td>9.0</td>\n",
       "      <td>7.8</td>\n",
       "      <td>6.5</td>\n",
       "      <td>8.5</td>\n",
       "      <td>8.5</td>\n",
       "      <td>7.5</td>\n",
       "      <td>8.1</td>\n",
       "      <td>8.2</td>\n",
       "      <td>9.2</td>\n",
       "    </tr>\n",
       "    <tr>\n",
       "      <th>29</th>\n",
       "      <td>263</td>\n",
       "      <td>Pham Duy Phuc</td>\n",
       "      <td>A01</td>\n",
       "      <td>12C3</td>\n",
       "      <td>9.0</td>\n",
       "      <td>7.4</td>\n",
       "      <td>7.0</td>\n",
       "      <td>8.4</td>\n",
       "      <td>8.5</td>\n",
       "      <td>7.9</td>\n",
       "      <td>8.3</td>\n",
       "      <td>8.5</td>\n",
       "      <td>9.2</td>\n",
       "    </tr>\n",
       "  </tbody>\n",
       "</table>\n",
       "</div>"
      ],
      "text/plain": [
       "     NO                 Name Exam blocks Class  Match  Literature  English  \\\n",
       "1    30  Nguyen Tran Yen Chi         B00  12C3    9.0         8.0      7.1   \n",
       "12  117         Ta Thi Huyen         B00  12C3    9.0         7.4      7.1   \n",
       "22  222         Dam Duc Manh         A00  12C3    9.0         6.7      7.0   \n",
       "23  227      Dinh Le Duc Nam         A00  12C3    9.0         7.8      6.5   \n",
       "29  263        Pham Duy Phuc         A01  12C3    9.0         7.4      7.0   \n",
       "\n",
       "    Physics  Chemistry  Biology  History  Geographic  Civic Education  \n",
       "1       8.7        8.9      8.8      8.0         8.5              9.5  \n",
       "12      8.6        8.4      7.6      8.2         8.1              9.3  \n",
       "22      7.9        8.4      7.5      8.4         8.1              8.9  \n",
       "23      8.5        8.5      7.5      8.1         8.2              9.2  \n",
       "29      8.4        8.5      7.9      8.3         8.5              9.2  "
      ]
     },
     "execution_count": 42,
     "metadata": {},
     "output_type": "execute_result"
    }
   ],
   "source": [
    "my_df[my_df['Match']==9]"
   ]
  },
  {
   "cell_type": "code",
   "execution_count": 5,
   "metadata": {},
   "outputs": [
    {
     "data": {
      "text/plain": [
       "8.3"
      ]
     },
     "execution_count": 5,
     "metadata": {},
     "output_type": "execute_result"
    }
   ],
   "source": [
    "my_df['Literature'].max()"
   ]
  },
  {
   "cell_type": "code",
   "execution_count": 14,
   "metadata": {},
   "outputs": [],
   "source": [
    "\n",
    "new_df = my_df['Match'].value_counts().head(5)"
   ]
  }
 ],
 "metadata": {
  "kernelspec": {
   "display_name": "Python 3",
   "language": "python",
   "name": "python3"
  },
  "language_info": {
   "codemirror_mode": {
    "name": "ipython",
    "version": 3
   },
   "file_extension": ".py",
   "mimetype": "text/x-python",
   "name": "python",
   "nbconvert_exporter": "python",
   "pygments_lexer": "ipython3",
   "version": "3.10.1"
  },
  "orig_nbformat": 4,
  "vscode": {
   "interpreter": {
    "hash": "2ae786e0187e8aee91d8c6a51496c4f1e2e88dd3dd8ce991dbf3208fe5193d93"
   }
  }
 },
 "nbformat": 4,
 "nbformat_minor": 2
}
